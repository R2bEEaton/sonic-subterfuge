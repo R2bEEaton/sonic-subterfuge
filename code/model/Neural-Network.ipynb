{
 "cells": [
  {
   "cell_type": "markdown",
   "source": [
    "# Code Credit\n",
    "Modified from https://github.com/vntkumar8/musical-instrument-classification under Open Source license.\n",
    "\n",
    "## Summary of changes\n",
    "Hyperparameter tuning, increasing classification labels, isolate SVC (best performing), add exports, and more."
   ],
   "metadata": {
    "collapsed": false
   }
  },
  {
   "cell_type": "code",
   "execution_count": 2,
   "metadata": {
    "ExecuteTime": {
     "end_time": "2023-12-21T04:24:02.696630300Z",
     "start_time": "2023-12-21T04:23:47.380312500Z"
    }
   },
   "outputs": [],
   "source": [
    "from python_speech_features import mfcc\n",
    "from python_speech_features import logfbank\n",
    "import scipy.io.wavfile as wav\n",
    "import pandas as pd\n",
    "import numpy as np\n",
    "from statistics import stdev\n",
    "import IPython.display as ipd\n",
    "%matplotlib inline\n",
    "import matplotlib.pyplot as plt\n",
    "import librosa.display\n",
    "import itertools"
   ]
  },
  {
   "cell_type": "code",
   "execution_count": 3,
   "metadata": {
    "ExecuteTime": {
     "end_time": "2023-12-21T04:24:08.412542900Z",
     "start_time": "2023-12-21T04:24:06.109739800Z"
    }
   },
   "outputs": [],
   "source": [
    "import librosa\n",
    "import pandas as pd\n",
    "import numpy as np\n",
    "import matplotlib.pyplot as plt\n",
    "%matplotlib inline\n",
    "import os\n",
    "from PIL import Image\n",
    "import pathlib\n",
    "import csv\n",
    "import tqdm\n",
    "\n",
    "# Preprocessing\n",
    "from sklearn.utils import shuffle\n",
    "from sklearn.model_selection import train_test_split\n",
    "from sklearn.preprocessing import LabelEncoder, StandardScaler\n",
    "from sklearn.metrics import confusion_matrix\n",
    "from sklearn.svm import SVC\n",
    "from sklearn.metrics import recall_score, precision_score, accuracy_score\n",
    "from sklearn.metrics import confusion_matrix, f1_score, classification_report\n",
    "from sklearn.model_selection import cross_val_score"
   ]
  },
  {
   "cell_type": "markdown",
   "metadata": {},
   "source": [
    "# Creating features from audio files"
   ]
  },
  {
   "cell_type": "code",
   "execution_count": 5,
   "metadata": {
    "ExecuteTime": {
     "end_time": "2023-12-21T04:24:40.288290700Z",
     "start_time": "2023-12-21T04:24:40.268788400Z"
    }
   },
   "outputs": [],
   "source": [
    "header = 'filename rms spectral_centroid spectral_bandwidth rolloff zero_crossing_rate'\n",
    "for i in range(1, 21):\n",
    "    header += f' mfcc{i}'\n",
    "header += ' label'\n",
    "header = header.split()"
   ]
  },
  {
   "cell_type": "code",
   "execution_count": 6,
   "metadata": {
    "ExecuteTime": {
     "end_time": "2023-12-21T04:24:45.359701600Z",
     "start_time": "2023-12-21T04:24:45.343405300Z"
    }
   },
   "outputs": [],
   "source": [
    "file = open('../dataset/data.csv', 'w', newline='')\n",
    "with file:\n",
    "    writer = csv.writer(file)\n",
    "    writer.writerow(header)"
   ]
  },
  {
   "cell_type": "code",
   "execution_count": 8,
   "metadata": {
    "ExecuteTime": {
     "end_time": "2023-12-21T04:36:33.021860300Z",
     "start_time": "2023-12-21T04:26:01.175038500Z"
    }
   },
   "outputs": [],
   "source": [
    "Instruments = 'cel cla flu gac gel org pia sax tru vio voi'.split()\n",
    "for i in Instruments:\n",
    "    for filename in tqdm.tqdm(os.listdir(os.path.join('../dataset/IRMAS-TrainingData', f'{i}'))):\n",
    "        songname = os.path.join('../dataset/IRMAS-TrainingData', i, filename)\n",
    "        y, sr = librosa.load(songname, sr =44100)\n",
    "        rms = librosa.feature.rms(y=y)\n",
    "        spec_cent = librosa.feature.spectral_centroid(y=y, sr=sr)\n",
    "        spec_bw = librosa.feature.spectral_bandwidth(y=y, sr=sr)\n",
    "        rolloff = librosa.feature.spectral_rolloff(y=y, sr=sr)\n",
    "        zcr = librosa.feature.zero_crossing_rate(y)\n",
    "        mfcc = librosa.feature.mfcc(y=y, sr=sr)\n",
    "        to_append = f'{filename} {np.mean(rms)} {np.mean(spec_cent)} {np.mean(spec_bw)} {np.mean(rolloff)} {np.mean(zcr)}'    \n",
    "        for e in mfcc:\n",
    "            to_append += f' {np.mean(e)}'\n",
    "        to_append += f' {i}'\n",
    "        file = open('../dataset/data.csv', 'a', newline='')\n",
    "        with file:\n",
    "            writer = csv.writer(file)\n",
    "            writer.writerow(to_append.split())"
   ]
  },
  {
   "cell_type": "code",
   "execution_count": 10,
   "metadata": {
    "ExecuteTime": {
     "end_time": "2023-12-21T04:36:53.747825400Z",
     "start_time": "2023-12-21T04:36:53.596103400Z"
    }
   },
   "outputs": [
    {
     "data": {
      "text/plain": "                          filename       rms  spectral_centroid  \\\n0  008__[cel][nod][cla]0058__1.wav  0.005622        1273.967038   \n1  008__[cel][nod][cla]0058__2.wav  0.009950        1369.496771   \n2  008__[cel][nod][cla]0058__3.wav  0.015884        1515.558971   \n3  012__[cel][nod][cla]0043__1.wav  0.017558        1764.444040   \n4  012__[cel][nod][cla]0043__2.wav  0.020022        1949.381979   \n\n   spectral_bandwidth      rolloff  zero_crossing_rate       mfcc1  \\\n0         1974.181216  2121.477777            0.033642 -548.299316   \n1         1985.402338  2307.544605            0.035053 -492.253021   \n2         2010.045759  2452.374103            0.041344 -445.286987   \n3         2402.842740  3208.613545            0.042100 -370.563354   \n4         2529.054589  3562.539590            0.046834 -359.077881   \n\n        mfcc2      mfcc3      mfcc4  ...    mfcc12    mfcc13    mfcc14  \\\n0  189.765564 -21.121988  15.259335  ... -0.564254  1.159621 -0.287216   \n1  180.435959 -30.720634  16.488262  ... -3.774964 -4.976338 -5.985732   \n2  170.886612 -36.930515  13.339684  ... -1.129981  0.303812  2.144062   \n3  182.482651 -35.701279  31.877964  ... -3.459521 -4.016848 -2.542539   \n4  171.018555 -36.208290  24.581499  ... -2.380702 -7.200488 -5.400430   \n\n      mfcc15    mfcc16    mfcc17    mfcc18     mfcc19     mfcc20  label  \n0  -1.051063  2.558362  7.008935  9.611934   6.723992   2.892501    cel  \n1 -12.421291 -7.708522 -5.190786  0.197547  10.872709  21.063335    cel  \n2   3.028069  4.692125  1.315577 -4.312213  -6.950765  -1.198687    cel  \n3   2.515918  3.337309 -1.405248 -2.197753   0.097689  -1.399735    cel  \n4   2.223381  5.510553  1.154641  3.953078   4.156675   3.527656    cel  \n\n[5 rows x 27 columns]",
      "text/html": "<div>\n<style scoped>\n    .dataframe tbody tr th:only-of-type {\n        vertical-align: middle;\n    }\n\n    .dataframe tbody tr th {\n        vertical-align: top;\n    }\n\n    .dataframe thead th {\n        text-align: right;\n    }\n</style>\n<table border=\"1\" class=\"dataframe\">\n  <thead>\n    <tr style=\"text-align: right;\">\n      <th></th>\n      <th>filename</th>\n      <th>rms</th>\n      <th>spectral_centroid</th>\n      <th>spectral_bandwidth</th>\n      <th>rolloff</th>\n      <th>zero_crossing_rate</th>\n      <th>mfcc1</th>\n      <th>mfcc2</th>\n      <th>mfcc3</th>\n      <th>mfcc4</th>\n      <th>...</th>\n      <th>mfcc12</th>\n      <th>mfcc13</th>\n      <th>mfcc14</th>\n      <th>mfcc15</th>\n      <th>mfcc16</th>\n      <th>mfcc17</th>\n      <th>mfcc18</th>\n      <th>mfcc19</th>\n      <th>mfcc20</th>\n      <th>label</th>\n    </tr>\n  </thead>\n  <tbody>\n    <tr>\n      <th>0</th>\n      <td>008__[cel][nod][cla]0058__1.wav</td>\n      <td>0.005622</td>\n      <td>1273.967038</td>\n      <td>1974.181216</td>\n      <td>2121.477777</td>\n      <td>0.033642</td>\n      <td>-548.299316</td>\n      <td>189.765564</td>\n      <td>-21.121988</td>\n      <td>15.259335</td>\n      <td>...</td>\n      <td>-0.564254</td>\n      <td>1.159621</td>\n      <td>-0.287216</td>\n      <td>-1.051063</td>\n      <td>2.558362</td>\n      <td>7.008935</td>\n      <td>9.611934</td>\n      <td>6.723992</td>\n      <td>2.892501</td>\n      <td>cel</td>\n    </tr>\n    <tr>\n      <th>1</th>\n      <td>008__[cel][nod][cla]0058__2.wav</td>\n      <td>0.009950</td>\n      <td>1369.496771</td>\n      <td>1985.402338</td>\n      <td>2307.544605</td>\n      <td>0.035053</td>\n      <td>-492.253021</td>\n      <td>180.435959</td>\n      <td>-30.720634</td>\n      <td>16.488262</td>\n      <td>...</td>\n      <td>-3.774964</td>\n      <td>-4.976338</td>\n      <td>-5.985732</td>\n      <td>-12.421291</td>\n      <td>-7.708522</td>\n      <td>-5.190786</td>\n      <td>0.197547</td>\n      <td>10.872709</td>\n      <td>21.063335</td>\n      <td>cel</td>\n    </tr>\n    <tr>\n      <th>2</th>\n      <td>008__[cel][nod][cla]0058__3.wav</td>\n      <td>0.015884</td>\n      <td>1515.558971</td>\n      <td>2010.045759</td>\n      <td>2452.374103</td>\n      <td>0.041344</td>\n      <td>-445.286987</td>\n      <td>170.886612</td>\n      <td>-36.930515</td>\n      <td>13.339684</td>\n      <td>...</td>\n      <td>-1.129981</td>\n      <td>0.303812</td>\n      <td>2.144062</td>\n      <td>3.028069</td>\n      <td>4.692125</td>\n      <td>1.315577</td>\n      <td>-4.312213</td>\n      <td>-6.950765</td>\n      <td>-1.198687</td>\n      <td>cel</td>\n    </tr>\n    <tr>\n      <th>3</th>\n      <td>012__[cel][nod][cla]0043__1.wav</td>\n      <td>0.017558</td>\n      <td>1764.444040</td>\n      <td>2402.842740</td>\n      <td>3208.613545</td>\n      <td>0.042100</td>\n      <td>-370.563354</td>\n      <td>182.482651</td>\n      <td>-35.701279</td>\n      <td>31.877964</td>\n      <td>...</td>\n      <td>-3.459521</td>\n      <td>-4.016848</td>\n      <td>-2.542539</td>\n      <td>2.515918</td>\n      <td>3.337309</td>\n      <td>-1.405248</td>\n      <td>-2.197753</td>\n      <td>0.097689</td>\n      <td>-1.399735</td>\n      <td>cel</td>\n    </tr>\n    <tr>\n      <th>4</th>\n      <td>012__[cel][nod][cla]0043__2.wav</td>\n      <td>0.020022</td>\n      <td>1949.381979</td>\n      <td>2529.054589</td>\n      <td>3562.539590</td>\n      <td>0.046834</td>\n      <td>-359.077881</td>\n      <td>171.018555</td>\n      <td>-36.208290</td>\n      <td>24.581499</td>\n      <td>...</td>\n      <td>-2.380702</td>\n      <td>-7.200488</td>\n      <td>-5.400430</td>\n      <td>2.223381</td>\n      <td>5.510553</td>\n      <td>1.154641</td>\n      <td>3.953078</td>\n      <td>4.156675</td>\n      <td>3.527656</td>\n      <td>cel</td>\n    </tr>\n  </tbody>\n</table>\n<p>5 rows × 27 columns</p>\n</div>"
     },
     "execution_count": 10,
     "metadata": {},
     "output_type": "execute_result"
    }
   ],
   "source": [
    "df = pd.read_csv('../dataset/data.csv')\n",
    "df.head()"
   ]
  },
  {
   "cell_type": "code",
   "execution_count": 12,
   "metadata": {
    "ExecuteTime": {
     "end_time": "2023-12-21T04:36:59.410911700Z",
     "start_time": "2023-12-21T04:36:59.392281200Z"
    }
   },
   "outputs": [],
   "source": [
    "df.shape\n",
    "features = df[df.columns[2:26]]"
   ]
  },
  {
   "cell_type": "markdown",
   "metadata": {},
   "source": [
    "# PCA Analysis"
   ]
  },
  {
   "cell_type": "code",
   "execution_count": 13,
   "metadata": {
    "ExecuteTime": {
     "end_time": "2023-12-21T04:37:04.893592400Z",
     "start_time": "2023-12-21T04:37:03.160746500Z"
    }
   },
   "outputs": [
    {
     "data": {
      "text/plain": "<Figure size 640x480 with 1 Axes>",
      "image/png": "[encoded data removed]"
     },
     "metadata": {},
     "output_type": "display_data"
    }
   ],
   "source": [
    "from sklearn.decomposition import PCA\n",
    "from sklearn.preprocessing import scale\n",
    "import matplotlib.pyplot as plt\n",
    "X = scale(features)\n",
    "pca = PCA().fit(X)\n",
    "plt.plot(np.cumsum(pca.explained_variance_ratio_))\n",
    "plt.xlabel('number of components')\n",
    "plt.ylabel('cumulative explained variance')\n",
    "plt.show()"
   ]
  },
  {
   "cell_type": "code",
   "execution_count": 14,
   "metadata": {
    "ExecuteTime": {
     "end_time": "2023-12-21T04:37:08.803479700Z",
     "start_time": "2023-12-21T04:37:08.781081900Z"
    }
   },
   "outputs": [],
   "source": [
    "# Dropping unneccesary columns\n",
    "df = df.drop(['filename'],axis=1)"
   ]
  },
  {
   "cell_type": "code",
   "execution_count": 15,
   "metadata": {
    "ExecuteTime": {
     "end_time": "2023-12-21T04:37:13.466264900Z",
     "start_time": "2023-12-21T04:37:13.455595800Z"
    }
   },
   "outputs": [],
   "source": [
    "df1 = shuffle(df)"
   ]
  },
  {
   "cell_type": "code",
   "execution_count": 16,
   "metadata": {
    "scrolled": true,
    "ExecuteTime": {
     "end_time": "2023-12-21T04:37:14.494523100Z",
     "start_time": "2023-12-21T04:37:14.436785700Z"
    }
   },
   "outputs": [
    {
     "data": {
      "text/plain": "           rms  spectral_centroid  spectral_bandwidth       rolloff  \\\n4808  0.076002         735.274158          899.637324   1237.535631   \n2435  0.081032        1069.572936         2015.015595   1493.190456   \n4034  0.109761        2224.974058         2481.453340   4758.505332   \n4217  0.012672         998.094777         1585.715871   1501.421294   \n6490  0.131303        3540.388281         3880.630539   7919.230363   \n...        ...                ...                 ...           ...   \n4402  0.019595        1160.462668         1523.188333   1733.713841   \n3101  0.180024        4033.504131         4556.724860  10133.741554   \n6428  0.135438        2760.412443         3173.463772   5483.816776   \n786   0.101007        1363.066179         1541.895007   2207.028611   \n3795  0.176785        1877.523496         2910.229806   4026.376425   \n\n      zero_crossing_rate       mfcc1       mfcc2      mfcc3      mfcc4  \\\n4808            0.023741 -346.450653  235.776611  20.081324 -14.053885   \n2435            0.019940 -352.429718  180.978409  30.520863   9.668955   \n4034            0.053132 -162.918869  180.988602 -58.072205  61.043930   \n4217            0.026629 -512.678406  216.376358   1.186581  -1.193522   \n6490            0.070350 -129.822021  122.658043 -19.490177  55.988270   \n...                  ...         ...         ...        ...        ...   \n4402            0.039002 -491.860687  196.638687 -14.058707 -19.660019   \n3101            0.078519 -128.321518  122.665131   8.391699  57.776688   \n6428            0.060873 -169.030136  130.298157 -38.958012  52.263264   \n786             0.043423 -275.825470  212.005875 -36.420868  -8.463155   \n3795            0.030705 -200.820267  158.405167   5.551292  31.544815   \n\n          mfcc5  ...    mfcc12     mfcc13     mfcc14     mfcc15    mfcc16  \\\n4808  16.780853  ... -6.482112  -1.622507  -1.446987  -2.928339 -6.365215   \n2435  17.242371  ... -0.374519  -2.097467  -4.898523  -5.063980  3.542300   \n4034 -11.050199  ... -7.612615  -5.572572  -3.562831  -1.403184  0.328761   \n4217  13.213090  ... -6.903014 -14.991097 -10.635369  -7.375049  6.411600   \n6490 -15.461882  ...  7.448131  -1.888943  -0.615157   0.619945 -0.504676   \n...         ...  ...       ...        ...        ...        ...       ...   \n4402  16.925020  ...  0.699636   5.315674  11.715022  15.244774  9.546551   \n3101 -45.264000  ...  4.708924  -5.766236  -0.522233   1.126261 -3.850566   \n6428   8.025220  ...  6.725596  -3.292483  -0.734770  -4.953449 -6.972642   \n786   14.179642  ... -7.393950   1.435760   7.288025  -0.264580 -1.145738   \n3795  -2.830333  ...  4.709015  -1.588115   2.366560   1.456627  7.332911   \n\n         mfcc17     mfcc18     mfcc19     mfcc20  label  \n4808  -9.793225 -12.026228 -13.366228 -12.148260    tru  \n2435  18.334932  17.155987  -2.843026 -12.545064    gel  \n4034  -2.624682  -3.325452  -4.443487  -1.212056    pia  \n4217  11.081943  17.010588   8.151624  -0.843168    sax  \n6490  -1.595457   1.639103  -3.015823  -2.205513    voi  \n...         ...        ...        ...        ...    ...  \n4402  -0.462493  -6.697478 -10.706688 -11.948635    sax  \n3101  -4.254044  -4.488180   0.965264  -9.281622    org  \n6428  -5.557561 -11.253341  -0.750419  -6.422184    voi  \n786   -5.621663  -4.708848  -2.588868   0.973623    cla  \n3795   8.990766   2.472424  -0.197497  -3.684482    pia  \n\n[6705 rows x 26 columns]",
      "text/html": "<div>\n<style scoped>\n    .dataframe tbody tr th:only-of-type {\n        vertical-align: middle;\n    }\n\n    .dataframe tbody tr th {\n        vertical-align: top;\n    }\n\n    .dataframe thead th {\n        text-align: right;\n    }\n</style>\n<table border=\"1\" class=\"dataframe\">\n  <thead>\n    <tr style=\"text-align: right;\">\n      <th></th>\n      <th>rms</th>\n      <th>spectral_centroid</th>\n      <th>spectral_bandwidth</th>\n      <th>rolloff</th>\n      <th>zero_crossing_rate</th>\n      <th>mfcc1</th>\n      <th>mfcc2</th>\n      <th>mfcc3</th>\n      <th>mfcc4</th>\n      <th>mfcc5</th>\n      <th>...</th>\n      <th>mfcc12</th>\n      <th>mfcc13</th>\n      <th>mfcc14</th>\n      <th>mfcc15</th>\n      <th>mfcc16</th>\n      <th>mfcc17</th>\n      <th>mfcc18</th>\n      <th>mfcc19</th>\n      <th>mfcc20</th>\n      <th>label</th>\n    </tr>\n  </thead>\n  <tbody>\n    <tr>\n      <th>4808</th>\n      <td>0.076002</td>\n      <td>735.274158</td>\n      <td>899.637324</td>\n      <td>1237.535631</td>\n      <td>0.023741</td>\n      <td>-346.450653</td>\n      <td>235.776611</td>\n      <td>20.081324</td>\n      <td>-14.053885</td>\n      <td>16.780853</td>\n      <td>...</td>\n      <td>-6.482112</td>\n      <td>-1.622507</td>\n      <td>-1.446987</td>\n      <td>-2.928339</td>\n      <td>-6.365215</td>\n      <td>-9.793225</td>\n      <td>-12.026228</td>\n      <td>-13.366228</td>\n      <td>-12.148260</td>\n      <td>tru</td>\n    </tr>\n    <tr>\n      <th>2435</th>\n      <td>0.081032</td>\n      <td>1069.572936</td>\n      <td>2015.015595</td>\n      <td>1493.190456</td>\n      <td>0.019940</td>\n      <td>-352.429718</td>\n      <td>180.978409</td>\n      <td>30.520863</td>\n      <td>9.668955</td>\n      <td>17.242371</td>\n      <td>...</td>\n      <td>-0.374519</td>\n      <td>-2.097467</td>\n      <td>-4.898523</td>\n      <td>-5.063980</td>\n      <td>3.542300</td>\n      <td>18.334932</td>\n      <td>17.155987</td>\n      <td>-2.843026</td>\n      <td>-12.545064</td>\n      <td>gel</td>\n    </tr>\n    <tr>\n      <th>4034</th>\n      <td>0.109761</td>\n      <td>2224.974058</td>\n      <td>2481.453340</td>\n      <td>4758.505332</td>\n      <td>0.053132</td>\n      <td>-162.918869</td>\n      <td>180.988602</td>\n      <td>-58.072205</td>\n      <td>61.043930</td>\n      <td>-11.050199</td>\n      <td>...</td>\n      <td>-7.612615</td>\n      <td>-5.572572</td>\n      <td>-3.562831</td>\n      <td>-1.403184</td>\n      <td>0.328761</td>\n      <td>-2.624682</td>\n      <td>-3.325452</td>\n      <td>-4.443487</td>\n      <td>-1.212056</td>\n      <td>pia</td>\n    </tr>\n    <tr>\n      <th>4217</th>\n      <td>0.012672</td>\n      <td>998.094777</td>\n      <td>1585.715871</td>\n      <td>1501.421294</td>\n      <td>0.026629</td>\n      <td>-512.678406</td>\n      <td>216.376358</td>\n      <td>1.186581</td>\n      <td>-1.193522</td>\n      <td>13.213090</td>\n      <td>...</td>\n      <td>-6.903014</td>\n      <td>-14.991097</td>\n      <td>-10.635369</td>\n      <td>-7.375049</td>\n      <td>6.411600</td>\n      <td>11.081943</td>\n      <td>17.010588</td>\n      <td>8.151624</td>\n      <td>-0.843168</td>\n      <td>sax</td>\n    </tr>\n    <tr>\n      <th>6490</th>\n      <td>0.131303</td>\n      <td>3540.388281</td>\n      <td>3880.630539</td>\n      <td>7919.230363</td>\n      <td>0.070350</td>\n      <td>-129.822021</td>\n      <td>122.658043</td>\n      <td>-19.490177</td>\n      <td>55.988270</td>\n      <td>-15.461882</td>\n      <td>...</td>\n      <td>7.448131</td>\n      <td>-1.888943</td>\n      <td>-0.615157</td>\n      <td>0.619945</td>\n      <td>-0.504676</td>\n      <td>-1.595457</td>\n      <td>1.639103</td>\n      <td>-3.015823</td>\n      <td>-2.205513</td>\n      <td>voi</td>\n    </tr>\n    <tr>\n      <th>...</th>\n      <td>...</td>\n      <td>...</td>\n      <td>...</td>\n      <td>...</td>\n      <td>...</td>\n      <td>...</td>\n      <td>...</td>\n      <td>...</td>\n      <td>...</td>\n      <td>...</td>\n      <td>...</td>\n      <td>...</td>\n      <td>...</td>\n      <td>...</td>\n      <td>...</td>\n      <td>...</td>\n      <td>...</td>\n      <td>...</td>\n      <td>...</td>\n      <td>...</td>\n      <td>...</td>\n    </tr>\n    <tr>\n      <th>4402</th>\n      <td>0.019595</td>\n      <td>1160.462668</td>\n      <td>1523.188333</td>\n      <td>1733.713841</td>\n      <td>0.039002</td>\n      <td>-491.860687</td>\n      <td>196.638687</td>\n      <td>-14.058707</td>\n      <td>-19.660019</td>\n      <td>16.925020</td>\n      <td>...</td>\n      <td>0.699636</td>\n      <td>5.315674</td>\n      <td>11.715022</td>\n      <td>15.244774</td>\n      <td>9.546551</td>\n      <td>-0.462493</td>\n      <td>-6.697478</td>\n      <td>-10.706688</td>\n      <td>-11.948635</td>\n      <td>sax</td>\n    </tr>\n    <tr>\n      <th>3101</th>\n      <td>0.180024</td>\n      <td>4033.504131</td>\n      <td>4556.724860</td>\n      <td>10133.741554</td>\n      <td>0.078519</td>\n      <td>-128.321518</td>\n      <td>122.665131</td>\n      <td>8.391699</td>\n      <td>57.776688</td>\n      <td>-45.264000</td>\n      <td>...</td>\n      <td>4.708924</td>\n      <td>-5.766236</td>\n      <td>-0.522233</td>\n      <td>1.126261</td>\n      <td>-3.850566</td>\n      <td>-4.254044</td>\n      <td>-4.488180</td>\n      <td>0.965264</td>\n      <td>-9.281622</td>\n      <td>org</td>\n    </tr>\n    <tr>\n      <th>6428</th>\n      <td>0.135438</td>\n      <td>2760.412443</td>\n      <td>3173.463772</td>\n      <td>5483.816776</td>\n      <td>0.060873</td>\n      <td>-169.030136</td>\n      <td>130.298157</td>\n      <td>-38.958012</td>\n      <td>52.263264</td>\n      <td>8.025220</td>\n      <td>...</td>\n      <td>6.725596</td>\n      <td>-3.292483</td>\n      <td>-0.734770</td>\n      <td>-4.953449</td>\n      <td>-6.972642</td>\n      <td>-5.557561</td>\n      <td>-11.253341</td>\n      <td>-0.750419</td>\n      <td>-6.422184</td>\n      <td>voi</td>\n    </tr>\n    <tr>\n      <th>786</th>\n      <td>0.101007</td>\n      <td>1363.066179</td>\n      <td>1541.895007</td>\n      <td>2207.028611</td>\n      <td>0.043423</td>\n      <td>-275.825470</td>\n      <td>212.005875</td>\n      <td>-36.420868</td>\n      <td>-8.463155</td>\n      <td>14.179642</td>\n      <td>...</td>\n      <td>-7.393950</td>\n      <td>1.435760</td>\n      <td>7.288025</td>\n      <td>-0.264580</td>\n      <td>-1.145738</td>\n      <td>-5.621663</td>\n      <td>-4.708848</td>\n      <td>-2.588868</td>\n      <td>0.973623</td>\n      <td>cla</td>\n    </tr>\n    <tr>\n      <th>3795</th>\n      <td>0.176785</td>\n      <td>1877.523496</td>\n      <td>2910.229806</td>\n      <td>4026.376425</td>\n      <td>0.030705</td>\n      <td>-200.820267</td>\n      <td>158.405167</td>\n      <td>5.551292</td>\n      <td>31.544815</td>\n      <td>-2.830333</td>\n      <td>...</td>\n      <td>4.709015</td>\n      <td>-1.588115</td>\n      <td>2.366560</td>\n      <td>1.456627</td>\n      <td>7.332911</td>\n      <td>8.990766</td>\n      <td>2.472424</td>\n      <td>-0.197497</td>\n      <td>-3.684482</td>\n      <td>pia</td>\n    </tr>\n  </tbody>\n</table>\n<p>6705 rows × 26 columns</p>\n</div>"
     },
     "execution_count": 16,
     "metadata": {},
     "output_type": "execute_result"
    }
   ],
   "source": [
    "df1"
   ]
  },
  {
   "cell_type": "code",
   "execution_count": 17,
   "metadata": {
    "ExecuteTime": {
     "end_time": "2023-12-21T04:37:21.854274200Z",
     "start_time": "2023-12-21T04:37:21.827265100Z"
    }
   },
   "outputs": [
    {
     "data": {
      "text/plain": "['std_scaler.bin']"
     },
     "execution_count": 17,
     "metadata": {},
     "output_type": "execute_result"
    }
   ],
   "source": [
    "instru_list = df1.iloc[:, -1]\n",
    "encoder = LabelEncoder()\n",
    "y = encoder.fit_transform(instru_list)\n",
    "\n",
    "scaler = StandardScaler()\n",
    "X = scaler.fit_transform(np.array(df1.iloc[:, :-1], dtype = float))\n",
    "\n",
    "from joblib import dump\n",
    "dump(scaler, 'std_scaler.bin', compress=True)"
   ]
  },
  {
   "cell_type": "code",
   "execution_count": 18,
   "metadata": {
    "scrolled": true,
    "ExecuteTime": {
     "end_time": "2023-12-21T04:37:52.876117100Z",
     "start_time": "2023-12-21T04:37:52.854605100Z"
    }
   },
   "outputs": [
    {
     "data": {
      "text/plain": "array([ 8,  4,  6, ..., 10,  1,  6])"
     },
     "execution_count": 18,
     "metadata": {},
     "output_type": "execute_result"
    }
   ],
   "source": [
    "y"
   ]
  },
  {
   "cell_type": "code",
   "execution_count": 19,
   "metadata": {
    "ExecuteTime": {
     "end_time": "2023-12-21T04:37:55.654128Z",
     "start_time": "2023-12-21T04:37:55.639493100Z"
    }
   },
   "outputs": [],
   "source": [
    "X_train, X_test, y_train, y_test = train_test_split(X, y, test_size=0.2)"
   ]
  },
  {
   "cell_type": "markdown",
   "metadata": {},
   "source": [
    "# Supervised Algorithms"
   ]
  },
  {
   "cell_type": "markdown",
   "metadata": {},
   "source": [
    "### SVM"
   ]
  },
  {
   "cell_type": "code",
   "execution_count": null,
   "outputs": [],
   "source": [
    "from sklearn.model_selection import RandomizedSearchCV\n",
    "from scipy.stats import uniform, randint\n",
    "\n",
    "# Define the parameter distributions\n",
    "param_dist = {'C': uniform(0.1, 20),          # Uniform distribution between 0.1 and 20\n",
    "              'kernel': ['rbf'],\n",
    "              'degree': randint(2, 5),          # Discrete uniform distribution between 2 and 4\n",
    "              'gamma': [0.1, 1, 10, 100]}\n",
    "\n",
    "# Create the SVC model\n",
    "svc = SVC()\n",
    "\n",
    "# Create the RandomizedSearchCV object\n",
    "random_search = RandomizedSearchCV(svc, param_distributions=param_dist, n_iter=100, cv=5, random_state=42)\n",
    "\n",
    "# Fit the model to the data\n",
    "random_search.fit(X_train, y_train)\n",
    "\n",
    "# Print the best parameters\n",
    "print(\"Best Parameters: \", random_search.best_params_)"
   ],
   "metadata": {
    "collapsed": false,
    "is_executing": true,
    "ExecuteTime": {
     "start_time": "2023-12-21T04:37:59.962381100Z"
    }
   }
  },
  {
   "cell_type": "code",
   "execution_count": 16,
   "outputs": [],
   "source": [
    "svc = SVC(kernel='rbf', C = 10.0, gamma=0.2, probability=True)"
   ],
   "metadata": {
    "collapsed": false,
    "ExecuteTime": {
     "end_time": "2023-12-09T02:51:32.305399100Z",
     "start_time": "2023-12-09T02:51:32.258514Z"
    }
   }
  },
  {
   "cell_type": "code",
   "execution_count": 17,
   "outputs": [
    {
     "name": "stdout",
     "output_type": "stream",
     "text": [
      "[-0.05402212  1.42240291  1.47701749  1.57673145  0.60983464  0.47875061\n",
      " -1.13782375  0.85160902  0.50480107 -1.65140783  0.73467046 -0.45877192\n",
      "  0.36912383 -0.01299193  0.26186335 -0.44370923 -0.38512583 -1.89052176\n",
      "  0.20426634  0.11613384  1.5162553   0.09524059  0.15111436 -1.76668171\n",
      " -0.32326473] 2\n"
     ]
    }
   ],
   "source": [
    "print(X_train[0], y_train[0])"
   ],
   "metadata": {
    "collapsed": false,
    "ExecuteTime": {
     "end_time": "2023-12-09T02:51:33.792898Z",
     "start_time": "2023-12-09T02:51:33.740112800Z"
    }
   }
  },
  {
   "cell_type": "code",
   "execution_count": 18,
   "metadata": {
    "ExecuteTime": {
     "end_time": "2023-12-09T02:51:54.110819300Z",
     "start_time": "2023-12-09T02:51:35.711768700Z"
    }
   },
   "outputs": [
    {
     "data": {
      "text/plain": "0.9662118258609487"
     },
     "execution_count": 18,
     "metadata": {},
     "output_type": "execute_result"
    }
   ],
   "source": [
    "svc.fit(X_train, y_train)\n",
    "svc.score(X_test, y_test)"
   ]
  },
  {
   "cell_type": "markdown",
   "metadata": {},
   "source": [
    "# Save the model"
   ]
  },
  {
   "cell_type": "code",
   "execution_count": 19,
   "metadata": {
    "ExecuteTime": {
     "end_time": "2023-12-09T02:52:05.338534500Z",
     "start_time": "2023-12-09T02:52:02.960904900Z"
    }
   },
   "outputs": [
    {
     "name": "stdout",
     "output_type": "stream",
     "text": [
      "Test score: 96.62 %\n"
     ]
    }
   ],
   "source": [
    "import pickle\n",
    "\n",
    "#\n",
    "# Create your model here (same as above)\n",
    "#\n",
    "\n",
    "# Save to file in the current working directory\n",
    "pkl_filename = \"their_tuned_model.pkl\"\n",
    "with open(pkl_filename, 'wb') as file:\n",
    "    pickle.dump(svc, file)\n",
    "\n",
    "# Load from file\n",
    "with open(pkl_filename, 'rb') as file:\n",
    "    pickle_model = pickle.load(file)\n",
    "    \n",
    "# Calculate the accuracy score and predict target values\n",
    "score = pickle_model.score(X_test, y_test)\n",
    "print(\"Test score: {0:.2f} %\".format(100 * score))\n",
    "#Ypredict = pickle_model.predict(Xtest)"
   ]
  },
  {
   "cell_type": "code",
   "execution_count": null,
   "metadata": {
    "ExecuteTime": {
     "start_time": "2023-11-27T19:45:05.444797300Z"
    }
   },
   "outputs": [],
   "source": [
    "predicted_labels = svc.predict(X_test)"
   ]
  },
  {
   "cell_type": "code",
   "execution_count": null,
   "metadata": {
    "ExecuteTime": {
     "end_time": "2023-11-27T19:45:05.499798300Z",
     "start_time": "2023-11-27T19:45:05.452796700Z"
    }
   },
   "outputs": [],
   "source": [
    "print(\"Recall: \", recall_score(y_test, predicted_labels,average=None))\n",
    "print(\"Precision: \", precision_score(y_test, predicted_labels,average=None))\n",
    "print(\"F1-Score: \", f1_score(y_test, predicted_labels, average=None))\n",
    "print(\"Accuracy: %.2f  ,\" % accuracy_score(y_test, predicted_labels,normalize=True), accuracy_score(y_test, predicted_labels,normalize=False) )\n",
    "\n",
    "print(\"Number of samples:\",y_test.shape[0])\n",
    "print(confusion_matrix(y_test, predicted_labels))"
   ]
  },
  {
   "cell_type": "code",
   "execution_count": null,
   "metadata": {
    "ExecuteTime": {
     "start_time": "2023-11-27T19:45:05.464797Z"
    }
   },
   "outputs": [],
   "source": [
    "import seaborn as sn\n",
    "import pandas as pd\n",
    "import matplotlib.pyplot as plt  \n",
    "df_cm = pd.DataFrame(confusion_matrix(y_test, predicted_labels),index=[\"flu\", \"gac\", \"org\", \"pia\", \"tru\", \"voi\"], columns=[\"flu\", \"gac\", \"org\", \"pia\", \"tru\", \"voi\"])\n",
    "#plt.figure(figsize = (10,7))\n",
    "sn.set(font_scale=1.0)#for label size\n",
    "sn.heatmap(df_cm, annot=True,annot_kws={\"size\": 18},fmt='g')# font size\n",
    "\n",
    "plt.show()"
   ]
  }
 ],
 "metadata": {
  "kernelspec": {
   "display_name": "Python 3",
   "language": "python",
   "name": "python3"
  },
  "language_info": {
   "codemirror_mode": {
    "name": "ipython",
    "version": 3
   },
   "file_extension": ".py",
   "mimetype": "text/x-python",
   "name": "python",
   "nbconvert_exporter": "python",
   "pygments_lexer": "ipython3",
   "version": "3.7.1"
  }
 },
 "nbformat": 4,
 "nbformat_minor": 2
}
