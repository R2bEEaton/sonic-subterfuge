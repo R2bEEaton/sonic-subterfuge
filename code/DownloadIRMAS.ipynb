{
 "cells": [
  {
   "cell_type": "code",
   "execution_count": 2,
   "id": "initial_id",
   "metadata": {
    "collapsed": true,
    "ExecuteTime": {
     "end_time": "2023-12-20T22:11:01.233321100Z",
     "start_time": "2023-12-20T22:06:11.517677800Z"
    }
   },
   "outputs": [
    {
     "name": "stdout",
     "output_type": "stream",
     "text": [
      "Downloading IRMAS dataset...\n"
     ]
    },
    {
     "name": "stderr",
     "output_type": "stream",
     "text": [
      "Downloading: 100%|██████████| 3181049879/3181049879 [03:31<00:00, 15040580.33it/s]\n"
     ]
    },
    {
     "name": "stdout",
     "output_type": "stream",
     "text": [
      "Download complete.\n",
      "Extracting IRMAS dataset...\n",
      "Extraction complete.\n"
     ]
    }
   ],
   "source": [
    "import os\n",
    "import requests\n",
    "from zipfile import ZipFile\n",
    "from tqdm import tqdm  # for progress bar\n",
    "\n",
    "def download_irmas_dataset(dataset_url, save_path):\n",
    "    # Check if the dataset directory exists\n",
    "    if not os.path.exists(save_path):\n",
    "        os.makedirs(save_path)\n",
    "\n",
    "    # Define the file path for the downloaded dataset\n",
    "    dataset_filename = os.path.join(save_path, \"IRMAS.zip\")\n",
    "\n",
    "    # Check if the dataset file exists\n",
    "    if not os.path.exists(dataset_filename):\n",
    "        # If not, download the dataset\n",
    "        print(\"Downloading IRMAS dataset...\")\n",
    "        response = requests.get(dataset_url, stream=True)\n",
    "\n",
    "        # Use tqdm to display a progress bar while downloading\n",
    "        with open(dataset_filename, \"wb\") as file, tqdm(\n",
    "                desc=\"Downloading\", total=int(response.headers.get(\"content-length\", 0))\n",
    "        ) as bar:\n",
    "            for data in response.iter_content(chunk_size=1024):\n",
    "                bar.update(len(data))\n",
    "                file.write(data)\n",
    "\n",
    "        print(\"Download complete.\")\n",
    "\n",
    "        # Extract the downloaded dataset\n",
    "        extract_dataset(dataset_filename, save_path)\n",
    "    else:\n",
    "        print(\"IRMAS dataset already exists.\")\n",
    "\n",
    "\n",
    "def extract_dataset(dataset_filename, extract_path):\n",
    "    print(\"Extracting IRMAS dataset...\")\n",
    "    with ZipFile(dataset_filename, \"r\") as zip_ref:\n",
    "        zip_ref.extractall(extract_path)\n",
    "    print(\"Extraction complete.\")\n",
    "\n",
    "\n",
    "# IRMAS dataset URL\n",
    "irmas_dataset_url = \"https://zenodo.org/records/1290750/files/IRMAS-TrainingData.zip?download=1\"\n",
    "\n",
    "# Specify the directory where you want to save the dataset\n",
    "save_directory = \"dataset\"\n",
    "\n",
    "# Call the function to download the IRMAS dataset\n",
    "download_irmas_dataset(irmas_dataset_url, save_directory)"
   ]
  }
 ],
 "metadata": {
  "kernelspec": {
   "display_name": "Python 3",
   "language": "python",
   "name": "python3"
  },
  "language_info": {
   "codemirror_mode": {
    "name": "ipython",
    "version": 2
   },
   "file_extension": ".py",
   "mimetype": "text/x-python",
   "name": "python",
   "nbconvert_exporter": "python",
   "pygments_lexer": "ipython2",
   "version": "2.7.6"
  }
 },
 "nbformat": 4,
 "nbformat_minor": 5
}
